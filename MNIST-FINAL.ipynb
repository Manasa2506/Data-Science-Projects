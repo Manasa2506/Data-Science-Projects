{
 "cells": [
  {
   "cell_type": "code",
   "execution_count": 1,
   "id": "430b2fa8",
   "metadata": {},
   "outputs": [
    {
     "name": "stderr",
     "output_type": "stream",
     "text": [
      "C:\\Users\\riyab\\anaconda3\\envs\\py3-TF2.0\\lib\\site-packages\\tqdm\\auto.py:22: TqdmWarning: IProgress not found. Please update jupyter and ipywidgets. See https://ipywidgets.readthedocs.io/en/stable/user_install.html\n",
      "  from .autonotebook import tqdm as notebook_tqdm\n"
     ]
    }
   ],
   "source": [
    "import tensorflow as tf\n",
    "import numpy as np\n",
    "\n",
    "import tensorflow_datasets as tfds"
   ]
  },
  {
   "cell_type": "code",
   "execution_count": 2,
   "id": "9c285a32",
   "metadata": {},
   "outputs": [],
   "source": [
    "mnist_dataset,mnist_info=tfds.load(name=\"mnist\",with_info=True,as_supervised=True)"
   ]
  },
  {
   "cell_type": "code",
   "execution_count": 3,
   "id": "429a9c32",
   "metadata": {},
   "outputs": [],
   "source": [
    "mnist_train=mnist_dataset[\"train\"]\n",
    "mnist_test=mnist_dataset[\"test\"]\n",
    "\n",
    "num_validation_sample=0.1*mnist_info.splits[\"train\"].num_examples\n",
    "num_validation_sample=tf.cast(num_validation_sample,tf.int64)\n",
    "\n",
    "num_test_sample=mnist_info.splits[\"test\"].num_examples\n",
    "num_test_sample=tf.cast(num_test_sample,tf.int64)\n",
    "\n",
    "def scale(image,label):\n",
    "    image=tf.cast(image,tf.float32)\n",
    "    image/=255.\n",
    "    \n",
    "    return image,label\n",
    "\n",
    "scaled_train_and_validation_data=mnist_train.map(scale)\n",
    "test_data=mnist_test.map(scale)\n",
    "\n",
    "BUFFER_SIZE=10000\n",
    "\n",
    "shuffled_train_and_validation_data=scaled_train_and_validation_data.shuffle(BUFFER_SIZE)\n",
    "\n",
    "validation_data=shuffled_train_and_validation_data.take(num_validation_sample)\n",
    "train_data=shuffled_train_and_validation_data.skip(num_validation_sample)\n",
    "\n",
    "\n",
    "BATCH_SIZE=150\n",
    "\n",
    "train_data=train_data.batch(BATCH_SIZE)\n",
    "validation_data=validation_data.batch(num_validation_sample)\n",
    "test_data=test_data.batch(num_test_sample)\n",
    "\n",
    "validation_inputs,validation_targets=next(iter(validation_data))"
   ]
  },
  {
   "cell_type": "markdown",
   "id": "01958853",
   "metadata": {},
   "source": [
    "Outlining the Model"
   ]
  },
  {
   "cell_type": "code",
   "execution_count": 4,
   "id": "3e04ee64",
   "metadata": {},
   "outputs": [],
   "source": [
    "from tensorflow import keras"
   ]
  },
  {
   "cell_type": "code",
   "execution_count": 5,
   "id": "3466395b",
   "metadata": {},
   "outputs": [],
   "source": [
    "input_size = 784\n",
    "output_size = 10\n",
    "\n",
    "hidden_layer_size = 50\n",
    "    \n",
    "# define how the model will look like\n",
    "model = tf.keras.Sequential([\n",
    "    \n",
    "    \n",
    "    tf.keras.layers.Flatten(input_shape=(28, 28, 1)), # input layer\n",
    "    \n",
    "    \n",
    "    tf.keras.layers.Dense(hidden_layer_size, activation='relu'), # 1st hidden layer\n",
    "    tf.keras.layers.Dense(hidden_layer_size, activation='relu'), # 2nd hidden layer\n",
    "    tf.keras.layers.Dense(hidden_layer_size, activation='relu'), # 3rd hidden layer\n",
    "    tf.keras.layers.Dense(hidden_layer_size, activation='relu'), # 4th hidden layer\n",
    "    tf.keras.layers.Dense(hidden_layer_size, activation='relu'), # 5th hidden layer\n",
    "    \n",
    "    # the final layer is no different, we just make sure to activate it with softmax\n",
    "    tf.keras.layers.Dense(output_size, activation='softmax') # output layer\n",
    "])"
   ]
  },
  {
   "cell_type": "code",
   "execution_count": 6,
   "id": "91dac4e6",
   "metadata": {},
   "outputs": [],
   "source": [
    "model.compile(optimizer=\"adam\",loss=\"sparse_categorical_crossentropy\",metrics=\"accuracy\")"
   ]
  },
  {
   "cell_type": "markdown",
   "id": "d4b97626",
   "metadata": {},
   "source": [
    "Train"
   ]
  },
  {
   "cell_type": "code",
   "execution_count": 7,
   "id": "652ce633",
   "metadata": {},
   "outputs": [
    {
     "name": "stdout",
     "output_type": "stream",
     "text": [
      "Epoch 1/5\n",
      "360/360 - 15s - loss: 0.2388 - accuracy: 0.9281 - val_loss: 0.1775 - val_accuracy: 0.9445\n",
      "Epoch 2/5\n",
      "360/360 - 13s - loss: 0.1031 - accuracy: 0.9685 - val_loss: 0.0778 - val_accuracy: 0.9757\n",
      "Epoch 3/5\n",
      "360/360 - 17s - loss: 0.0691 - accuracy: 0.9788 - val_loss: 0.0661 - val_accuracy: 0.9802\n",
      "Epoch 4/5\n",
      "360/360 - 17s - loss: 0.0540 - accuracy: 0.9839 - val_loss: 0.0712 - val_accuracy: 0.9790\n",
      "Epoch 5/5\n",
      "360/360 - 14s - loss: 0.0442 - accuracy: 0.9868 - val_loss: 0.0736 - val_accuracy: 0.9798\n"
     ]
    },
    {
     "data": {
      "text/plain": [
       "<tensorflow.python.keras.callbacks.History at 0x2118310da30>"
      ]
     },
     "execution_count": 7,
     "metadata": {},
     "output_type": "execute_result"
    }
   ],
   "source": [
    "NUM_EPOCHS=5\n",
    "\n",
    "model.fit(train_data,epochs=NUM_EPOCHS,validation_data=(validation_inputs,validation_targets),verbose=2)"
   ]
  },
  {
   "cell_type": "code",
   "execution_count": 34,
   "id": "9cde2c78",
   "metadata": {},
   "outputs": [
    {
     "name": "stdout",
     "output_type": "stream",
     "text": [
      "1/1 [==============================] - 0s 997us/step - loss: 0.1023 - accuracy: 0.9746\n"
     ]
    }
   ],
   "source": [
    "test_loss,test_accuracy=model.evaluate(test_data)"
   ]
  },
  {
   "cell_type": "code",
   "execution_count": null,
   "id": "084233fe",
   "metadata": {},
   "outputs": [],
   "source": []
  }
 ],
 "metadata": {
  "kernelspec": {
   "display_name": "Python 3",
   "language": "python",
   "name": "python3"
  },
  "language_info": {
   "codemirror_mode": {
    "name": "ipython",
    "version": 3
   },
   "file_extension": ".py",
   "mimetype": "text/x-python",
   "name": "python",
   "nbconvert_exporter": "python",
   "pygments_lexer": "ipython3",
   "version": "3.8.8"
  }
 },
 "nbformat": 4,
 "nbformat_minor": 5
}
